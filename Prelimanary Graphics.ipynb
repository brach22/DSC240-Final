{
 "cells": [
  {
   "cell_type": "markdown",
   "metadata": {},
   "source": [
    "DSC-240 Final Project Rough Draft"
   ]
  },
  {
   "cell_type": "code",
   "execution_count": 1,
   "metadata": {},
   "outputs": [],
   "source": [
    "# == imports ==\n",
    "import pandas as pd\n",
    "import numpy as np\n",
    "import matplotlib.pyplot as plt\n",
    "import seaborn as sns"
   ]
  },
  {
   "cell_type": "code",
   "execution_count": 7,
   "metadata": {},
   "outputs": [
    {
     "name": "stderr",
     "output_type": "stream",
     "text": [
      "/var/folders/zr/916q35rd1b3cg0f59kfyvsfh0000gn/T/ipykernel_7520/206772735.py:4: DtypeWarning: Columns (10) have mixed types. Specify dtype option on import or set low_memory=False.\n",
      "  cancer_age = pd.read_csv('/Users/brianchaffee/Data Science/Projects/Project Data/DSC240/USCS-1999-2020-ASCII/BYAGE.TXT', sep='|')\n"
     ]
    }
   ],
   "source": [
    "# == data ==\n",
    "\n",
    "# cancer by age\n",
    "cancer_age = pd.read_csv('/Users/brianchaffee/Data Science/Projects/Project Data/DSC240/USCS-1999-2020-ASCII/BYAGE.TXT', sep='|')\n",
    "cancer_age = cancer_age.drop(['CI_LOWER', 'CI_UPPER'], axis=1)\n",
    "\n",
    "cancer_age = cancer_age[~(cancer_age['COUNT'].str.contains(\"~\", regex=False, na=False))]\n",
    "\n",
    "cancer_age['COUNT'] = pd.to_numeric(cancer_age['COUNT'], errors='coerce')\n",
    "cancer_age['RATE'] = pd.to_numeric(cancer_age['RATE'], errors='coerce')\n",
    "cancer_age['POPULATION'] = pd.to_numeric(cancer_age['POPULATION'], errors='coerce')\n",
    "cancer_age['YEAR'] = pd.to_datetime(cancer_age['YEAR'], format='%Y', errors='coerce')\n",
    "\n",
    "cancer_age = cancer_age.dropna()\n",
    "\n",
    "cancer_age['YEAR'] = cancer_age['YEAR'].dt.year.astype(int)\n",
    "\n",
    "# cancer by area - ohio - county \n",
    "cancer_county = pd.read_csv('data/ohio_cancer_data.csv')\n",
    "\n",
    "cancer_county = cancer_county.drop(['AGE_ADJUSTED_CI_LOWER', 'AGE_ADJUSTED_CI_UPPER', 'CRUDE_CI_LOWER', 'CRUDE_CI_UPPER'], axis=1)\n",
    "cancer_county = cancer_county[~(cancer_county['AGE_ADJUSTED_RATE'].str.contains(\"~\", regex=False, na=False))]\n",
    "\n",
    "cancer_county['COUNT'] = pd.to_numeric(cancer_county['COUNT'], errors='coerce')\n",
    "cancer_county['AGE_ADJUSTED_RATE'] = pd.to_numeric(cancer_county['AGE_ADJUSTED_RATE'], errors='coerce')\n",
    "cancer_county['CRUDE_RATE'] = pd.to_numeric(cancer_county['CRUDE_RATE'], errors='coerce')\n",
    "cancer_county['POPULATION'] = pd.to_numeric(cancer_county['POPULATION'], errors='coerce')\n",
    "\n",
    "# air emission data - ohio - county\n",
    "air_emission = pd.read_excel('data/OH-AirPollution-BYCOUNTY.xlsx')\n",
    "\n",
    "air_emission = air_emission.drop(['SCC Code', 'EIS Sector', 'Source Description', 'SCC LEVEL 4'], axis=1)"
   ]
  },
  {
   "cell_type": "code",
   "execution_count": 8,
   "metadata": {},
   "outputs": [
    {
     "data": {
      "text/html": [
       "<div>\n",
       "<style scoped>\n",
       "    .dataframe tbody tr th:only-of-type {\n",
       "        vertical-align: middle;\n",
       "    }\n",
       "\n",
       "    .dataframe tbody tr th {\n",
       "        vertical-align: top;\n",
       "    }\n",
       "\n",
       "    .dataframe thead th {\n",
       "        text-align: right;\n",
       "    }\n",
       "</style>\n",
       "<table border=\"1\" class=\"dataframe\">\n",
       "  <thead>\n",
       "    <tr style=\"text-align: right;\">\n",
       "      <th></th>\n",
       "      <th>State</th>\n",
       "      <th>State-County</th>\n",
       "      <th>POLLUTANT</th>\n",
       "      <th>Emissions (Tons)</th>\n",
       "      <th>Pollutant Type</th>\n",
       "      <th>SCC LEVEL 1</th>\n",
       "      <th>SCC LEVEL 2</th>\n",
       "      <th>SCC LEVEL 3</th>\n",
       "      <th>EPA Region</th>\n",
       "      <th>FIPS</th>\n",
       "    </tr>\n",
       "  </thead>\n",
       "  <tbody>\n",
       "    <tr>\n",
       "      <th>0</th>\n",
       "      <td>Ohio</td>\n",
       "      <td>OH - Adams</td>\n",
       "      <td>Carbon Dioxide</td>\n",
       "      <td>2.372499</td>\n",
       "      <td>GHG</td>\n",
       "      <td>Mobile Sources</td>\n",
       "      <td>Highway Vehicles - Compressed Natural Gas (CNG)</td>\n",
       "      <td>Combination Short-haul Truck</td>\n",
       "      <td>5</td>\n",
       "      <td>39001</td>\n",
       "    </tr>\n",
       "    <tr>\n",
       "      <th>1</th>\n",
       "      <td>Ohio</td>\n",
       "      <td>OH - Adams</td>\n",
       "      <td>Carbon Monoxide</td>\n",
       "      <td>0.063043</td>\n",
       "      <td>CAP</td>\n",
       "      <td>Mobile Sources</td>\n",
       "      <td>Highway Vehicles - Compressed Natural Gas (CNG)</td>\n",
       "      <td>Combination Short-haul Truck</td>\n",
       "      <td>5</td>\n",
       "      <td>39001</td>\n",
       "    </tr>\n",
       "    <tr>\n",
       "      <th>2</th>\n",
       "      <td>Ohio</td>\n",
       "      <td>OH - Adams</td>\n",
       "      <td>Methane</td>\n",
       "      <td>0.028510</td>\n",
       "      <td>GHG</td>\n",
       "      <td>Mobile Sources</td>\n",
       "      <td>Highway Vehicles - Compressed Natural Gas (CNG)</td>\n",
       "      <td>Combination Short-haul Truck</td>\n",
       "      <td>5</td>\n",
       "      <td>39001</td>\n",
       "    </tr>\n",
       "    <tr>\n",
       "      <th>3</th>\n",
       "      <td>Ohio</td>\n",
       "      <td>OH - Adams</td>\n",
       "      <td>Nitrogen Oxides</td>\n",
       "      <td>0.001218</td>\n",
       "      <td>CAP</td>\n",
       "      <td>Mobile Sources</td>\n",
       "      <td>Highway Vehicles - Compressed Natural Gas (CNG)</td>\n",
       "      <td>Combination Short-haul Truck</td>\n",
       "      <td>5</td>\n",
       "      <td>39001</td>\n",
       "    </tr>\n",
       "    <tr>\n",
       "      <th>4</th>\n",
       "      <td>Ohio</td>\n",
       "      <td>OH - Adams</td>\n",
       "      <td>Volatile Organic Compounds</td>\n",
       "      <td>0.001149</td>\n",
       "      <td>CAP</td>\n",
       "      <td>Mobile Sources</td>\n",
       "      <td>Highway Vehicles - Compressed Natural Gas (CNG)</td>\n",
       "      <td>Combination Short-haul Truck</td>\n",
       "      <td>5</td>\n",
       "      <td>39001</td>\n",
       "    </tr>\n",
       "  </tbody>\n",
       "</table>\n",
       "</div>"
      ],
      "text/plain": [
       "  State State-County                   POLLUTANT  Emissions (Tons)  \\\n",
       "0  Ohio   OH - Adams              Carbon Dioxide          2.372499   \n",
       "1  Ohio   OH - Adams             Carbon Monoxide          0.063043   \n",
       "2  Ohio   OH - Adams                     Methane          0.028510   \n",
       "3  Ohio   OH - Adams             Nitrogen Oxides          0.001218   \n",
       "4  Ohio   OH - Adams  Volatile Organic Compounds          0.001149   \n",
       "\n",
       "  Pollutant Type     SCC LEVEL 1  \\\n",
       "0            GHG  Mobile Sources   \n",
       "1            CAP  Mobile Sources   \n",
       "2            GHG  Mobile Sources   \n",
       "3            CAP  Mobile Sources   \n",
       "4            CAP  Mobile Sources   \n",
       "\n",
       "                                       SCC LEVEL 2  \\\n",
       "0  Highway Vehicles - Compressed Natural Gas (CNG)   \n",
       "1  Highway Vehicles - Compressed Natural Gas (CNG)   \n",
       "2  Highway Vehicles - Compressed Natural Gas (CNG)   \n",
       "3  Highway Vehicles - Compressed Natural Gas (CNG)   \n",
       "4  Highway Vehicles - Compressed Natural Gas (CNG)   \n",
       "\n",
       "                    SCC LEVEL 3  EPA Region   FIPS  \n",
       "0  Combination Short-haul Truck           5  39001  \n",
       "1  Combination Short-haul Truck           5  39001  \n",
       "2  Combination Short-haul Truck           5  39001  \n",
       "3  Combination Short-haul Truck           5  39001  \n",
       "4  Combination Short-haul Truck           5  39001  "
      ]
     },
     "execution_count": 8,
     "metadata": {},
     "output_type": "execute_result"
    }
   ],
   "source": [
    "#cancer_age.head()\n",
    "\n",
    "#cancer_county.head()\n",
    "\n",
    "air_emission.head()"
   ]
  },
  {
   "cell_type": "markdown",
   "metadata": {},
   "source": [
    "Cancer Visuals"
   ]
  },
  {
   "cell_type": "code",
   "execution_count": null,
   "metadata": {},
   "outputs": [],
   "source": []
  },
  {
   "cell_type": "markdown",
   "metadata": {},
   "source": [
    "Emission Visuals"
   ]
  },
  {
   "cell_type": "markdown",
   "metadata": {},
   "source": []
  }
 ],
 "metadata": {
  "kernelspec": {
   "display_name": "base",
   "language": "python",
   "name": "python3"
  },
  "language_info": {
   "codemirror_mode": {
    "name": "ipython",
    "version": 3
   },
   "file_extension": ".py",
   "mimetype": "text/x-python",
   "name": "python",
   "nbconvert_exporter": "python",
   "pygments_lexer": "ipython3",
   "version": "3.11.5"
  }
 },
 "nbformat": 4,
 "nbformat_minor": 2
}
